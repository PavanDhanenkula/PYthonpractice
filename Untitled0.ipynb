{
  "nbformat": 4,
  "nbformat_minor": 0,
  "metadata": {
    "colab": {
      "provenance": [],
      "authorship_tag": "ABX9TyPVe1cAKA5yfHb182fGR/Q/",
      "include_colab_link": true
    },
    "kernelspec": {
      "name": "python3",
      "display_name": "Python 3"
    },
    "language_info": {
      "name": "python"
    }
  },
  "cells": [
    {
      "cell_type": "markdown",
      "metadata": {
        "id": "view-in-github",
        "colab_type": "text"
      },
      "source": [
        "<a href=\"https://colab.research.google.com/github/PavanDhanenkula/PYthonpractice/blob/main/Untitled0.ipynb\" target=\"_parent\"><img src=\"https://colab.research.google.com/assets/colab-badge.svg\" alt=\"Open In Colab\"/></a>"
      ]
    },
    {
      "cell_type": "code",
      "execution_count": 2,
      "metadata": {
        "colab": {
          "base_uri": "https://localhost:8080/"
        },
        "id": "gYoM-eUI2kBx",
        "outputId": "f9d47493-b277-4948-aff4-86c2bae7f2b4"
      },
      "outputs": [
        {
          "output_type": "stream",
          "name": "stdout",
          "text": [
            "Enter a choice (rock, paper scissors):paper\n",
            "{'Player': 'paper', 'computer': 'paper'}\n"
          ]
        }
      ],
      "source": [
        "import random\n",
        "\n",
        "## Functions\n",
        "def get_choices():\n",
        "\n",
        "  ## variable declaration\n",
        "  #player_choice = \"rock\"\n",
        "  player_choice = input('Enter a choice (rock, paper scissors):')\n",
        "  options = [\"rock\",\"paper\",\"scissors\"]\n",
        "  computer_choice = random.choice(options)\n",
        "  ## Dictonaries stores the data in key value pairs\n",
        "  choices = {\"Player\":player_choice, \"computer\":computer_choice}\n",
        "  return choices\n",
        "\n",
        "def check_win(player, computer):\n",
        "  if player == computer:\n",
        "    return \"Its a tie!\"\n",
        "  return[player,computer]\n",
        "  \n",
        "\n",
        "\n",
        "## To declare variable\n",
        "## and assgin the return value of the function to the variable\n",
        "choices = get_choices()\n",
        "\n",
        "print(choices)"
      ]
    }
  ]
}