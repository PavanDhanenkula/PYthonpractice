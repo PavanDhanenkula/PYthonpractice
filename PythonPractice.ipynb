{
  "nbformat": 4,
  "nbformat_minor": 0,
  "metadata": {
    "colab": {
      "provenance": [],
      "authorship_tag": "ABX9TyNZy7BOwEHvwIMIRDBGQwRW",
      "include_colab_link": true
    },
    "kernelspec": {
      "name": "python3",
      "display_name": "Python 3"
    },
    "language_info": {
      "name": "python"
    }
  },
  "cells": [
    {
      "cell_type": "markdown",
      "metadata": {
        "id": "view-in-github",
        "colab_type": "text"
      },
      "source": [
        "<a href=\"https://colab.research.google.com/github/PavanDhanenkula/PYthonpractice/blob/main/PythonPractice.ipynb\" target=\"_parent\"><img src=\"https://colab.research.google.com/assets/colab-badge.svg\" alt=\"Open In Colab\"/></a>"
      ]
    },
    {
      "cell_type": "code",
      "execution_count": 2,
      "metadata": {
        "colab": {
          "base_uri": "https://localhost:8080/"
        },
        "id": "gYoM-eUI2kBx",
        "outputId": "f9d47493-b277-4948-aff4-86c2bae7f2b4"
      },
      "outputs": [
        {
          "output_type": "stream",
          "name": "stdout",
          "text": [
            "Enter a choice (rock, paper scissors):paper\n",
            "{'Player': 'paper', 'computer': 'paper'}\n"
          ]
        }
      ],
      "source": [
        "import random\n",
        "\n",
        "\n",
        "## Functions\n",
        "def get_choices():\n",
        "\n",
        "  ## variable declaration\n",
        "  #player_choice = \"rock\"\n",
        "  player_choice = input('Enter a choice (rock, paper scissors):')\n",
        "  options = [\"rock\", \"paper\", \"scissors\"]\n",
        "  computer_choice = random.choice(options)\n",
        "\n",
        "  ## Dictonaries stores the data in key value pairs\n",
        "  choices = {\"player\": player_choice, \"computer\": computer_choice}\n",
        "  return choices\n",
        "\n",
        "\n",
        "def check_win(player, computer):\n",
        "  #print(\"You chose \"+ player + \", computer chose \" + computer)\n",
        "  print(f\"You chose {player}, computer chose {computer}\")\n",
        "  if player == computer:\n",
        "    return \"Its a tie!\"\n",
        "  elif player == \"rock\":\n",
        "    if computer == \"scissors\":\n",
        "      return \"rock smashes scissors! You win!\"\n",
        "    else:\n",
        "      return \"paper covers rock! You lose.\"\n",
        "  elif player == \"paper\":\n",
        "    if computer == \"rock\":\n",
        "      return \"paper covers rock! You win!\"\n",
        "    else:\n",
        "      return \"scissors cuts rock! You lose.\"\n",
        "  elif player == \"scissors\":\n",
        "    if computer == \"paper\":\n",
        "      return \"scissors custs paper! You win!\"\n",
        "    else:\n",
        "      return \"rock smashes scissors! You lose.\"\n",
        "\n",
        "\n",
        "## Function 1\n",
        "## To declare variable\n",
        "## and assgin the return value of the function to the variable\n",
        "choices = get_choices()\n",
        "print(choices)\n",
        "\n",
        "## Function 2\n",
        "#check_win(\"rock\",\"paper\")\n",
        "\n",
        "result = check_win(choices[\"player\"], choices[\"computer\"])\n",
        "print(result)\n",
        "\n",
        "var1 = \"paper\"\n",
        "var2 = 12\n",
        "var3 = 12.56\n",
        "print(type(var1))\n",
        "print(isinstance(var1, str))\n",
        "print(type(var2))\n",
        "print(isinstance(var1, int))\n",
        "print(type(var3))\n",
        "print(isinstance(var1, float))\n",
        "\n",
        "var4 = float(var2)\n",
        "print(type(var4))\n",
        "print(isinstance(var4, float))\n",
        "\n",
        "var5 = int(\"20\")\n",
        "print(isinstance(var5, int))\n",
        "\n",
        "complex\n",
        "bool\n",
        "list\n",
        "typle\n",
        "range\n",
        "dict\n",
        "\n",
        "##Operatos\n",
        "#1. Assignment Operators\n",
        "#2. Arithmetic Operators\n",
        "## a+b a-b a*b a/b a%b, a//b\n",
        "## all the arithmetic and assignment operatos can be combined like += , -= ...\n",
        "#3. Comparison Operators\n",
        "## a==b a!=b a>b a<b\n",
        "#4. Boolean Operators ==> and or not\n",
        "#5. Bitwise Operatos ==> & BinaryAND | BInaryOR ^ BinaryXOR ~ BinaryNot << LeftShift >> RightShift\n"
      ]
    }
  ]
}