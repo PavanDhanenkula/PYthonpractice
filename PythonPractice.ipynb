{
  "nbformat": 4,
  "nbformat_minor": 0,
  "metadata": {
    "colab": {
      "provenance": [],
      "toc_visible": true,
      "authorship_tag": "ABX9TyNCW0ZN6Tc9WDHeBp6KpPOB",
      "include_colab_link": true
    },
    "kernelspec": {
      "name": "python3",
      "display_name": "Python 3"
    },
    "language_info": {
      "name": "python"
    }
  },
  "cells": [
    {
      "cell_type": "markdown",
      "metadata": {
        "id": "view-in-github",
        "colab_type": "text"
      },
      "source": [
        "<a href=\"https://colab.research.google.com/github/PavanDhanenkula/PYthonpractice/blob/main/PythonPractice.ipynb\" target=\"_parent\"><img src=\"https://colab.research.google.com/assets/colab-badge.svg\" alt=\"Open In Colab\"/></a>"
      ]
    },
    {
      "cell_type": "code",
      "execution_count": null,
      "metadata": {
        "id": "gYoM-eUI2kBx"
      },
      "outputs": [],
      "source": [
        "import random\n",
        "\n",
        "\n",
        "## Functions\n",
        "def get_choices():\n",
        "\n",
        "  ## variable declaration\n",
        "  #player_choice = \"rock\"\n",
        "  player_choice = input('Enter a choice (rock, paper scissors):')\n",
        "  options = [\"rock\", \"paper\", \"scissors\"]\n",
        "  computer_choice = random.choice(options)\n",
        "\n",
        "  ## Dictonaries stores the data in key value pairs\n",
        "  choices = {\"player\": player_choice, \"computer\": computer_choice}\n",
        "  return choices\n",
        "\n",
        "\n",
        "def check_win(player, computer):\n",
        "  #print(\"You chose \"+ player + \", computer chose \" + computer)\n",
        "  print(f\"You chose {player}, computer chose {computer}\")\n",
        "  if player == computer:\n",
        "    return \"Its a tie!\"\n",
        "  elif player == \"rock\":\n",
        "    if computer == \"scissors\":\n",
        "      return \"rock smashes scissors! You win!\"\n",
        "    else:\n",
        "      return \"paper covers rock! You lose.\"\n",
        "  elif player == \"paper\":\n",
        "    if computer == \"rock\":\n",
        "      return \"paper covers rock! You win!\"\n",
        "    else:\n",
        "      return \"scissors cuts rock! You lose.\"\n",
        "  elif player == \"scissors\":\n",
        "    if computer == \"paper\":\n",
        "      return \"scissors custs paper! You win!\"\n",
        "    else:\n",
        "      return \"rock smashes scissors! You lose.\"\n",
        "\n",
        "\n",
        "## Function 1\n",
        "## To declare variable\n",
        "## and assgin the return value of the function to the variable\n",
        "choices = get_choices()\n",
        "print(choices)\n",
        "\n",
        "## Function 2\n",
        "#check_win(\"rock\",\"paper\")\n",
        "\n",
        "result = check_win(choices[\"player\"], choices[\"computer\"])\n",
        "print(result)\n",
        "\n",
        "var1 = \"paper\"\n",
        "var2 = 12\n",
        "var3 = 12.56\n",
        "print(type(var1))\n",
        "print(isinstance(var1, str))\n",
        "print(type(var2))\n",
        "print(isinstance(var1, int))\n",
        "print(type(var3))\n",
        "print(isinstance(var1, float))\n",
        "\n",
        "var4 = float(var2)\n",
        "print(type(var4))\n",
        "print(isinstance(var4, float))\n",
        "\n",
        "var5 = int(\"20\")\n",
        "print(isinstance(var5, int))\n",
        "\n",
        "#complex\n",
        "#bool\n",
        "#list\n",
        "#typle\n",
        "#range\n",
        "#dict\n",
        "\n",
        "##Operatos\n",
        "#1. Assignment Operators\n",
        "#2. Arithmetic Operators\n",
        "## a+b a-b a*b a/b a%b, a//b\n",
        "## all the arithmetic and assignment operatos can be combined like += , -= ...\n",
        "#3. Comparison Operators\n",
        "## a==b a!=b a>b a<b\n",
        "#4. Boolean Operators ==> and or not\n",
        "#5. Bitwise Operatos ==> & BinaryAND | BInaryOR ^ BinaryXOR ~ BinaryNot << LeftShift >> RightShift\n"
      ]
    },
    {
      "cell_type": "code",
      "source": [],
      "metadata": {
        "id": "dKUbnTBgXHDu"
      },
      "execution_count": null,
      "outputs": []
    },
    {
      "cell_type": "code",
      "source": [
        "print('first','second')"
      ],
      "metadata": {
        "colab": {
          "base_uri": "https://localhost:8080/"
        },
        "id": "sLUyCLC7NLnN",
        "outputId": "0365e237-a7a9-427d-ce46-a75104fb077f"
      },
      "execution_count": null,
      "outputs": [
        {
          "output_type": "stream",
          "name": "stdout",
          "text": [
            "first second\n"
          ]
        }
      ]
    },
    {
      "cell_type": "markdown",
      "source": [
        "Print wil accept more than a single parameter and in the console output each parameter is printed with space separation."
      ],
      "metadata": {
        "id": "uU3ROziRNRSc"
      }
    },
    {
      "cell_type": "code",
      "source": [
        "from enum import Enum\n",
        "\n",
        "class State(Enum):\n",
        "  INACTIVE = 0\n",
        "  ACTIVE = 1\n",
        "\n",
        "print(State(1))\n",
        "print(State['ACTIVE'])\n",
        "print(State['ACTIVE'].value)\n",
        "print(State.ACTIVE.value)\n",
        "\n",
        "print(list(State))"
      ],
      "metadata": {
        "colab": {
          "base_uri": "https://localhost:8080/"
        },
        "id": "AdvQtLVr_HM2",
        "outputId": "9b6f0128-6d59-412a-83bc-c71f04828553"
      },
      "execution_count": null,
      "outputs": [
        {
          "output_type": "stream",
          "name": "stdout",
          "text": [
            "State.ACTIVE\n",
            "State.ACTIVE\n",
            "1\n",
            "1\n",
            "[<State.INACTIVE: 0>, <State.ACTIVE: 1>]\n"
          ]
        }
      ]
    },
    {
      "cell_type": "code",
      "source": [
        "age = input(\"What is your age?\")\n",
        "print(\"Your age is \" + age)"
      ],
      "metadata": {
        "colab": {
          "base_uri": "https://localhost:8080/"
        },
        "id": "H1gtfzl7_7WC",
        "outputId": "84300ddf-3d6e-45ee-e807-76a1226c1008"
      },
      "execution_count": null,
      "outputs": [
        {
          "output_type": "stream",
          "name": "stdout",
          "text": [
            "What is your age?5\n",
            "Your age is 5\n"
          ]
        }
      ]
    },
    {
      "cell_type": "markdown",
      "source": [
        "Control Statements\n",
        "if condition ==True:\n"
      ],
      "metadata": {
        "id": "rot5yw9SAXkC"
      }
    },
    {
      "cell_type": "code",
      "source": [
        "condition = True\n",
        "if condition == True:\n",
        "  print(\"The condition\")\n",
        "  print(\"was true\")\n",
        "else:\n",
        "  print(\"The condition\")\n",
        "  print(\"was false\")"
      ],
      "metadata": {
        "colab": {
          "base_uri": "https://localhost:8080/"
        },
        "id": "8RSN3sKJAURu",
        "outputId": "9e5bb08f-f93f-4ad5-dc2f-497d3acd1867"
      },
      "execution_count": null,
      "outputs": [
        {
          "output_type": "stream",
          "name": "stdout",
          "text": [
            "The condition\n",
            "was true\n"
          ]
        }
      ]
    },
    {
      "cell_type": "markdown",
      "source": [
        "LISTS"
      ],
      "metadata": {
        "id": "vvuWhWgdA3qx"
      }
    },
    {
      "cell_type": "code",
      "source": [
        "dogs = [\"Roger\",1,\"Syd\", True]\n",
        "\n",
        "print(\"Roger\" in dogs)\n",
        "print(\"Beau\" in dogs)\n",
        "\n",
        "dogs = []\n",
        "print(\"Beau\" in dogs)\n",
        "\n",
        "dogs = [\"Roger\",1,\"Syd\", True]\n",
        "print(dogs[0], dogs[3])\n",
        "dogs[3]='fidth' ## we cant adda a new elemenet but can only modify the existing one\n",
        "print(dogs)"
      ],
      "metadata": {
        "colab": {
          "base_uri": "https://localhost:8080/"
        },
        "id": "DXiUcWTTA_mS",
        "outputId": "6f9f5249-7d42-4294-cbac-a67951a71cf4"
      },
      "execution_count": null,
      "outputs": [
        {
          "output_type": "stream",
          "name": "stdout",
          "text": [
            "True\n",
            "False\n",
            "False\n",
            "Roger True\n",
            "['Roger', 1, 'Syd', 'fidth']\n"
          ]
        }
      ]
    },
    {
      "cell_type": "code",
      "source": [
        "abc = [2,1,5]\n",
        "for i in abc:\n",
        "    print(i)"
      ],
      "metadata": {
        "colab": {
          "base_uri": "https://localhost:8080/"
        },
        "id": "Z162QxbzhLoN",
        "outputId": "193d4455-424e-46af-90e3-76afadb736d3"
      },
      "execution_count": null,
      "outputs": [
        {
          "output_type": "stream",
          "name": "stdout",
          "text": [
            "2\n",
            "1\n",
            "5\n"
          ]
        }
      ]
    },
    {
      "cell_type": "code",
      "source": [
        "smallest = None\n",
        "print(\"Before:\", smallest)\n",
        "for itervar in [10, 3, 41, 12, 9, 74, 1]:\n",
        "    if smallest is None or itervar < smallest:\n",
        "        smallest = itervar\n",
        "        #break\n",
        "    print(\"Loop:\", itervar, smallest)\n",
        "print(\"Smallest:\", smallest)"
      ],
      "metadata": {
        "colab": {
          "base_uri": "https://localhost:8080/"
        },
        "id": "NGof9x6M20Yt",
        "outputId": "01d7672a-c439-4630-ce61-d781c0369bc3"
      },
      "execution_count": null,
      "outputs": [
        {
          "output_type": "stream",
          "name": "stdout",
          "text": [
            "Before: None\n",
            "Loop: 10 10\n",
            "Loop: 3 3\n",
            "Loop: 41 3\n",
            "Loop: 12 3\n",
            "Loop: 9 3\n",
            "Loop: 74 3\n",
            "Loop: 1 1\n",
            "Smallest: 1\n"
          ]
        }
      ]
    },
    {
      "cell_type": "code",
      "source": [
        "if 0 is 0.0:\n",
        "  print(True)\n",
        "else:\n",
        "  print(False)"
      ],
      "metadata": {
        "colab": {
          "base_uri": "https://localhost:8080/"
        },
        "id": "Skp5b9Eh5QFj",
        "outputId": "195c48ee-9f47-44ed-83b4-2941de352f0b"
      },
      "execution_count": null,
      "outputs": [
        {
          "output_type": "stream",
          "name": "stdout",
          "text": [
            "False\n"
          ]
        },
        {
          "output_type": "stream",
          "name": "stderr",
          "text": [
            "<>:1: SyntaxWarning: \"is\" with a literal. Did you mean \"==\"?\n",
            "<>:1: SyntaxWarning: \"is\" with a literal. Did you mean \"==\"?\n",
            "<ipython-input-22-1a7f616f1919>:1: SyntaxWarning: \"is\" with a literal. Did you mean \"==\"?\n",
            "  if 0 is 0.0:\n"
          ]
        }
      ]
    },
    {
      "cell_type": "code",
      "source": [
        "for n in \"banana\":\n",
        "    print(n)"
      ],
      "metadata": {
        "colab": {
          "base_uri": "https://localhost:8080/"
        },
        "id": "yc_YT_oyOs7r",
        "outputId": "ccb9d8b9-c4cd-4db9-a5c8-486b87f7686f"
      },
      "execution_count": null,
      "outputs": [
        {
          "output_type": "stream",
          "name": "stdout",
          "text": [
            "b\n",
            "a\n",
            "n\n",
            "a\n",
            "n\n",
            "a\n"
          ]
        }
      ]
    },
    {
      "cell_type": "code",
      "source": [
        "fruit = \"banana\"\n",
        "for n in fruit:\n",
        "  print(n)"
      ],
      "metadata": {
        "colab": {
          "base_uri": "https://localhost:8080/"
        },
        "id": "tKdbYo8qmCKu",
        "outputId": "a97112aa-7c81-478a-fa71-9b718dc2c6f2"
      },
      "execution_count": null,
      "outputs": [
        {
          "output_type": "stream",
          "name": "stdout",
          "text": [
            "b\n",
            "a\n",
            "n\n",
            "a\n",
            "n\n",
            "a\n"
          ]
        }
      ]
    },
    {
      "cell_type": "code",
      "source": [
        "n = 0\n",
        "while True:\n",
        "    if n == 3:\n",
        "        break\n",
        "    print(n)\n",
        "    n = n + 1\n"
      ],
      "metadata": {
        "colab": {
          "base_uri": "https://localhost:8080/"
        },
        "id": "R-pMoert3HLK",
        "outputId": "e4c0b67e-be09-41ef-aa89-d9a5d9189e03"
      },
      "execution_count": null,
      "outputs": [
        {
          "output_type": "stream",
          "name": "stdout",
          "text": [
            "0\n",
            "1\n",
            "2\n"
          ]
        }
      ]
    },
    {
      "cell_type": "code",
      "source": [
        "for i in [2,1,5]:\n",
        "    print(i)"
      ],
      "metadata": {
        "colab": {
          "base_uri": "https://localhost:8080/"
        },
        "id": "BpDoggMP3jk0",
        "outputId": "676cdf07-6fcb-45c3-d499-1676364f2d9d"
      },
      "execution_count": null,
      "outputs": [
        {
          "output_type": "stream",
          "name": "stdout",
          "text": [
            "2\n",
            "1\n",
            "5\n"
          ]
        }
      ]
    },
    {
      "cell_type": "code",
      "source": [
        "smallest = None\n",
        "print(\"Before:\", smallest)\n",
        "for itervar in [10, 3, 41, 12, 9, 74, 15]:\n",
        "    if smallest is None or itervar < smallest:\n",
        "        smallest = itervar\n",
        "        #break\n",
        "    print(\"Loop:\", itervar, smallest)\n",
        "print(\"Smallest:\", smallest)"
      ],
      "metadata": {
        "colab": {
          "base_uri": "https://localhost:8080/"
        },
        "id": "cab2tFPZ3vpc",
        "outputId": "20968393-bcad-4289-b7ad-10c45fcc94ee"
      },
      "execution_count": null,
      "outputs": [
        {
          "output_type": "stream",
          "name": "stdout",
          "text": [
            "Before: None\n",
            "Loop: 10 10\n",
            "Loop: 3 3\n",
            "Loop: 41 3\n",
            "Loop: 12 3\n",
            "Loop: 9 3\n",
            "Loop: 74 3\n",
            "Loop: 15 3\n",
            "Smallest: 3\n"
          ]
        }
      ]
    },
    {
      "cell_type": "code",
      "source": [
        "if 0 is 0.0:\n",
        "  print(True)\n",
        "else:\n",
        "  print(False)"
      ],
      "metadata": {
        "colab": {
          "base_uri": "https://localhost:8080/"
        },
        "id": "t-Tb6fRr4C6F",
        "outputId": "2a41c2b2-d428-4d3f-a2dd-8647db2370a5"
      },
      "execution_count": null,
      "outputs": [
        {
          "output_type": "stream",
          "name": "stdout",
          "text": [
            "False\n"
          ]
        },
        {
          "output_type": "stream",
          "name": "stderr",
          "text": [
            "<>:1: SyntaxWarning: \"is\" with a literal. Did you mean \"==\"?\n",
            "<>:1: SyntaxWarning: \"is\" with a literal. Did you mean \"==\"?\n",
            "<ipython-input-10-1a7f616f1919>:1: SyntaxWarning: \"is\" with a literal. Did you mean \"==\"?\n",
            "  if 0 is 0.0:\n"
          ]
        }
      ]
    },
    {
      "cell_type": "code",
      "source": [
        "for n in \"banana\":\n",
        "    print(n)"
      ],
      "metadata": {
        "colab": {
          "base_uri": "https://localhost:8080/"
        },
        "id": "fL-MIqHw4bue",
        "outputId": "be5709f1-b4c8-45e7-d7ec-f2ca778bccd9"
      },
      "execution_count": null,
      "outputs": [
        {
          "output_type": "stream",
          "name": "stdout",
          "text": [
            "b\n",
            "a\n",
            "n\n",
            "a\n",
            "n\n",
            "a\n"
          ]
        }
      ]
    },
    {
      "cell_type": "code",
      "source": [
        "word = \"bananana\"\n",
        "i = word.find(\"na\")\n",
        "print(i)"
      ],
      "metadata": {
        "colab": {
          "base_uri": "https://localhost:8080/"
        },
        "id": "Wiv81BZ_4heW",
        "outputId": "af4cdae2-e9b0-4f8d-9a7c-0d536f32f713"
      },
      "execution_count": null,
      "outputs": [
        {
          "output_type": "stream",
          "name": "stdout",
          "text": [
            "2\n"
          ]
        }
      ]
    },
    {
      "cell_type": "code",
      "source": [
        "var = 'ß'\n",
        "print(var.lower(), var.casefold())"
      ],
      "metadata": {
        "colab": {
          "base_uri": "https://localhost:8080/"
        },
        "id": "Vi187sPmiXmy",
        "outputId": "e9d3edfa-69e7-47f8-a5ef-c96e3e9c3f21"
      },
      "execution_count": null,
      "outputs": [
        {
          "output_type": "stream",
          "name": "stdout",
          "text": [
            "ß ss\n"
          ]
        }
      ]
    },
    {
      "cell_type": "code",
      "source": [
        "fruit = \"banana\"\n",
        "x = fruit[1]\n",
        "print(x)"
      ],
      "metadata": {
        "id": "d6TfNw8FXI-P",
        "colab": {
          "base_uri": "https://localhost:8080/"
        },
        "outputId": "8cebef08-f13b-4eba-e717-b42dcb75c337"
      },
      "execution_count": 3,
      "outputs": [
        {
          "output_type": "stream",
          "name": "stdout",
          "text": [
            "a\n"
          ]
        }
      ]
    },
    {
      "cell_type": "code",
      "source": [
        "listex = [1,2,3,4]\n",
        "print(listex)\n",
        "listex.append(5)\n",
        "print(listex)"
      ],
      "metadata": {
        "colab": {
          "base_uri": "https://localhost:8080/"
        },
        "id": "OPwB1jlXzMhA",
        "outputId": "650cc9f5-9750-4fa3-a875-51072e3bb71f"
      },
      "execution_count": 16,
      "outputs": [
        {
          "output_type": "stream",
          "name": "stdout",
          "text": [
            "[1, 2, 3, 4]\n",
            "[1, 2, 3, 4, 5]\n"
          ]
        }
      ]
    },
    {
      "cell_type": "code",
      "source": [
        "\n",
        "arr1 = [1,2,3]\n",
        "arr2 = [1,2,3,4]\n",
        "arr = arr1 + arr2\n",
        "print(arr)"
      ],
      "metadata": {
        "colab": {
          "base_uri": "https://localhost:8080/"
        },
        "id": "bkzUOwFD6Ctw",
        "outputId": "6e16f331-e022-46a8-a682-1ecaeae6d29a"
      },
      "execution_count": 17,
      "outputs": [
        {
          "output_type": "stream",
          "name": "stdout",
          "text": [
            "[1, 2, 3, 1, 2, 3, 4]\n"
          ]
        }
      ]
    },
    {
      "cell_type": "code",
      "source": [
        "words = 'His e-mail is q-lar@freecodecamp.org'\n",
        "pieces = words.split()\n",
        "parts = pieces[3].split('-')\n",
        "n = parts[1]\n",
        "print(n)"
      ],
      "metadata": {
        "colab": {
          "base_uri": "https://localhost:8080/"
        },
        "id": "WXT169R_8EMP",
        "outputId": "60d219a8-bbb4-4a96-fdc3-76cf55bc77b1"
      },
      "execution_count": 20,
      "outputs": [
        {
          "output_type": "stream",
          "name": "stdout",
          "text": [
            "lar@freecodecamp.org\n"
          ]
        }
      ]
    },
    {
      "cell_type": "code",
      "source": [
        "car = {\n",
        "  \"brand\": \"Ford\",\n",
        "  \"model\": \"Mustang\",\n",
        "  \"year\": 1964\n",
        "}\n",
        "\n",
        "x = car.get(\"price\", \"nothing\")\n",
        "\n",
        "print(x)"
      ],
      "metadata": {
        "colab": {
          "base_uri": "https://localhost:8080/"
        },
        "id": "PNquS6-vNTNt",
        "outputId": "4138f0d1-f147-4d43-b787-ecfbcd73a1a1"
      },
      "execution_count": 23,
      "outputs": [
        {
          "output_type": "stream",
          "name": "stdout",
          "text": [
            "nothing\n"
          ]
        }
      ]
    },
    {
      "cell_type": "code",
      "source": [
        "counts = { 'chuck' : 1 , 'annie' : 42, 'jan': 100}\n",
        "for key in counts:\n",
        "    if counts[key] > 10:\n",
        "        print(key, counts[key])"
      ],
      "metadata": {
        "colab": {
          "base_uri": "https://localhost:8080/"
        },
        "id": "WFPDBsjcaDky",
        "outputId": "bf3d2047-c89d-496f-ffeb-50f22b73157c"
      },
      "execution_count": 1,
      "outputs": [
        {
          "output_type": "stream",
          "name": "stdout",
          "text": [
            "annie 42\n",
            "jan 100\n"
          ]
        }
      ]
    },
    {
      "cell_type": "code",
      "source": [
        "(x,y) = (1,2)\n",
        "print(x)\n",
        "x = 10\n",
        "print(x)"
      ],
      "metadata": {
        "colab": {
          "base_uri": "https://localhost:8080/"
        },
        "id": "-KNlSJXgcq2U",
        "outputId": "5fc88fc7-8611-42fa-ebab-11ce361eff88"
      },
      "execution_count": 1,
      "outputs": [
        {
          "output_type": "stream",
          "name": "stdout",
          "text": [
            "1\n",
            "10\n"
          ]
        }
      ]
    },
    {
      "cell_type": "code",
      "source": [
        "tuples = (1,2,3)\n",
        "print(tuples[0])\n",
        "#tuples[0] = 10 ==> not allowed\n"
      ],
      "metadata": {
        "colab": {
          "base_uri": "https://localhost:8080/"
        },
        "id": "dlbzNgNfcxgy",
        "outputId": "05df404e-8008-4ac7-c4a0-083dfebe845d"
      },
      "execution_count": 5,
      "outputs": [
        {
          "output_type": "stream",
          "name": "stdout",
          "text": [
            "1\n"
          ]
        }
      ]
    }
  ]
}